{
 "cells": [
  {
   "cell_type": "markdown",
   "id": "09bb7252",
   "metadata": {},
   "source": [
    "# Hello, Jupyter Notebook"
   ]
  },
  {
   "cell_type": "markdown",
   "id": "af14f493",
   "metadata": {},
   "source": [
    "## Check devices"
   ]
  },
  {
   "cell_type": "markdown",
   "id": "53a2420f",
   "metadata": {},
   "source": [
    "You can checks GPU available in Tensorflow."
   ]
  },
  {
   "cell_type": "code",
   "execution_count": null,
   "id": "82c27f6f",
   "metadata": {},
   "outputs": [],
   "source": [
    "from tensorflow.python.client import device_lib\n",
    "device_lib.list_local_devices()"
   ]
  },
  {
   "cell_type": "markdown",
   "id": "207ec891",
   "metadata": {},
   "source": [
    "## Check some installed"
   ]
  },
  {
   "cell_type": "markdown",
   "id": "5ebbbef9",
   "metadata": {},
   "source": [
    "Installed libraries in python."
   ]
  },
  {
   "cell_type": "code",
   "execution_count": null,
   "id": "6a5d5b66",
   "metadata": {},
   "outputs": [],
   "source": [
    "!python3 -m pip list"
   ]
  },
  {
   "cell_type": "markdown",
   "id": "54951fcc",
   "metadata": {},
   "source": [
    "$\\LaTeX$ uses Mathmatics expressions.\n",
    "$$\n",
    "E = mc^2\n",
    "$$"
   ]
  }
 ],
 "metadata": {
  "kernelspec": {
   "display_name": "Python 3",
   "language": "python",
   "name": "python3"
  },
  "language_info": {
   "codemirror_mode": {
    "name": "ipython",
    "version": 3
   },
   "file_extension": ".py",
   "mimetype": "text/x-python",
   "name": "python",
   "nbconvert_exporter": "python",
   "pygments_lexer": "ipython3",
   "version": "3.6.9"
  }
 },
 "nbformat": 4,
 "nbformat_minor": 5
}
